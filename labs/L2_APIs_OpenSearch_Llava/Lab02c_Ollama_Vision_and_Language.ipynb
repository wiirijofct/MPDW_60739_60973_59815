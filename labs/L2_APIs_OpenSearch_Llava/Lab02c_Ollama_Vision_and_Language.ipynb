{
 "cells": [
  {
   "cell_type": "code",
   "execution_count": null,
   "id": "0eb93513-963a-491a-a3ec-67897e160904",
   "metadata": {
    "scrolled": true
   },
   "outputs": [],
   "source": [
    "!pip install ollama"
   ]
  },
  {
   "cell_type": "markdown",
   "id": "4235d875-0fe1-4cda-aafb-8826f30e4041",
   "metadata": {},
   "source": [
    "# Ollama Vision and Language API\n",
    "\n",
    "Ollama is an LLM/LVLM model server that optimizes resources and allows to run multiple models on the same GPU.\n",
    "This notebook provides you with a few use cases with a Llava model. You can provide the model with an instruction and an image, and ask it to generate the answer. Note that Llava supports both language-only requests and language-and-vision requests.\n",
    "\n",
    "The complete documentation is available here:\n",
    " - https://github.com/ollama/ollama-python"
   ]
  },
  {
   "cell_type": "code",
   "execution_count": null,
   "id": "4f62019e-2c65-47b4-94d6-4db42055d288",
   "metadata": {},
   "outputs": [],
   "source": [
    "from ollama import Client\n",
    "\n",
    "client = Client(\n",
    "  host='https://twiz.novasearch.org/ollama',\n",
    "  headers={'x-some-header': 'some-value'}\n",
    ")\n",
    "\n",
    "model_multimodal = 'llava-phi3:latest'"
   ]
  },
  {
   "cell_type": "markdown",
   "id": "c3ba4710-b603-424c-800d-a450fbd30a52",
   "metadata": {},
   "source": [
    "### Example 1: Generative answers"
   ]
  },
  {
   "cell_type": "code",
   "execution_count": null,
   "id": "06eb0a90-3509-4245-b2c0-e17d28416294",
   "metadata": {},
   "outputs": [],
   "source": [
    "response = client.generate(model=model_multimodal, prompt='Why is the sky blue?')"
   ]
  },
  {
   "cell_type": "code",
   "execution_count": null,
   "id": "917f9f0a-d16f-46bc-baa3-35194306a519",
   "metadata": {
    "scrolled": true
   },
   "outputs": [],
   "source": [
    "print(response.response)"
   ]
  },
  {
   "cell_type": "markdown",
   "id": "d928c61c-545d-40f3-a1f4-1fad5df2e9c9",
   "metadata": {},
   "source": [
    "### Example 2: Chat template"
   ]
  },
  {
   "cell_type": "code",
   "execution_count": null,
   "id": "f7fd8aa0-1d33-40cc-b29e-f4753ac2ccb1",
   "metadata": {},
   "outputs": [],
   "source": [
    "response = client.chat(model=model_multimodal, messages=[\n",
    "  {\n",
    "    'role': 'user',\n",
    "    'content': 'Why is the sky blue?',\n",
    "  },\n",
    "])"
   ]
  },
  {
   "cell_type": "code",
   "execution_count": null,
   "id": "ca40e585-a4b1-4cc9-b13c-1731f6e822eb",
   "metadata": {},
   "outputs": [],
   "source": [
    "print(response.message.content)"
   ]
  },
  {
   "cell_type": "markdown",
   "id": "c5633ddc-404b-4a18-9dc3-1107aa24b40b",
   "metadata": {},
   "source": [
    "### Example 3: Image captioning"
   ]
  },
  {
   "cell_type": "code",
   "execution_count": null,
   "id": "0c77fecb-492b-4142-afd5-36bda06f75d2",
   "metadata": {},
   "outputs": [],
   "source": [
    "from PIL import Image\n",
    "img = './images/dog.jpg'\n",
    "image = Image.open(img)\n",
    "image.show()"
   ]
  },
  {
   "cell_type": "code",
   "execution_count": null,
   "id": "96fae565-cfc7-4589-bb86-f01de0d42d60",
   "metadata": {},
   "outputs": [],
   "source": [
    "response = client.chat(model=model_multimodal, messages=[\n",
    "  {\n",
    "    'role': 'user',\n",
    "    'content': 'Describe this image.',\n",
    "    'images': [img]\n",
    "  },\n",
    "])"
   ]
  },
  {
   "cell_type": "code",
   "execution_count": null,
   "id": "02e8a60c-2454-426e-8c71-3e1312763c58",
   "metadata": {},
   "outputs": [],
   "source": [
    "print(response.message.content)"
   ]
  },
  {
   "cell_type": "markdown",
   "id": "90c683ac-acb5-49e5-a8fe-cb1e6a3d8417",
   "metadata": {},
   "source": [
    "### Example 4: Visual question answering"
   ]
  },
  {
   "cell_type": "code",
   "execution_count": null,
   "id": "6eae17e4-9f14-4345-af62-4bcb43b19645",
   "metadata": {},
   "outputs": [],
   "source": [
    "response = client.chat(model=model_multimodal, messages=[\n",
    "  {\n",
    "    'role': 'user',\n",
    "    'content': 'Is the dog running or jumping?.',\n",
    "    'images': ['./images/dog.jpg']\n",
    "  },\n",
    "])"
   ]
  },
  {
   "cell_type": "code",
   "execution_count": null,
   "id": "83e923a7-9867-42e0-83ce-bf8ee9593a18",
   "metadata": {},
   "outputs": [],
   "source": [
    "print(response.message.content)"
   ]
  }
 ],
 "metadata": {
  "kernelspec": {
   "display_name": "nlp-cv-ir",
   "language": "python",
   "name": "python3"
  },
  "language_info": {
   "codemirror_mode": {
    "name": "ipython",
    "version": 3
   },
   "file_extension": ".py",
   "mimetype": "text/x-python",
   "name": "python",
   "nbconvert_exporter": "python",
   "pygments_lexer": "ipython3",
   "version": "3.12.2"
  }
 },
 "nbformat": 4,
 "nbformat_minor": 5
}
